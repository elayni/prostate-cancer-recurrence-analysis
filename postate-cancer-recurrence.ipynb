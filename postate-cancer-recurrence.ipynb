{
 "cells": [
  {
   "cell_type": "markdown",
   "metadata": {},
   "source": [
    "# Prostate Cancer Recurrence Analysis\n",
    "In this notebook, I explore and analyze the dataset \"Blood Storage\" from Cleveland Clinic Lerner Research Institute (http://www.lerner.ccf.org/qhs/datasets/).\n",
    "\n",
    "**Let's play.**\n"
   ]
  },
  {
   "cell_type": "markdown",
   "metadata": {},
   "source": [
    "### Dataset Description\n",
    "categorical data: RBC Age Group, AA, FamHx, TVol, T Stage, bGS, BN+, OrganConfined,PreopTherapy,sGS, AnyAdjTherapy,\tAdjRadTherapy,\tRecurrence,\tCensor.\n",
    "\n",
    "...\n",
    "coming soon"
   ]
  },
  {
   "cell_type": "code",
   "execution_count": 22,
   "metadata": {},
   "outputs": [],
   "source": [
    "import pandas as pd\n",
    "import numpy as np\n",
    "import matplotlib.pyplot as plt\n",
    "import seaborn as sns\n",
    "\n",
    "# set pastel color for plots\n",
    "sns.set(style=\"ticks\", palette=\"pastel\")"
   ]
  },
  {
   "cell_type": "code",
   "execution_count": 23,
   "metadata": {},
   "outputs": [
    {
     "data": {
      "text/html": [
       "<div>\n",
       "<style scoped>\n",
       "    .dataframe tbody tr th:only-of-type {\n",
       "        vertical-align: middle;\n",
       "    }\n",
       "\n",
       "    .dataframe tbody tr th {\n",
       "        vertical-align: top;\n",
       "    }\n",
       "\n",
       "    .dataframe thead th {\n",
       "        text-align: right;\n",
       "    }\n",
       "</style>\n",
       "<table border=\"1\" class=\"dataframe\">\n",
       "  <thead>\n",
       "    <tr style=\"text-align: right;\">\n",
       "      <th></th>\n",
       "      <th>RBC Age Group</th>\n",
       "      <th>Median RBC Age</th>\n",
       "      <th>Age</th>\n",
       "      <th>AA</th>\n",
       "      <th>FamHx</th>\n",
       "      <th>PVol</th>\n",
       "      <th>TVol</th>\n",
       "      <th>T Stage</th>\n",
       "      <th>bGS</th>\n",
       "      <th>BN+</th>\n",
       "      <th>OrganConfined</th>\n",
       "      <th>PreopPSA</th>\n",
       "      <th>PreopTherapy</th>\n",
       "      <th>Units</th>\n",
       "      <th>sGS</th>\n",
       "      <th>AnyAdjTherapy</th>\n",
       "      <th>AdjRadTherapy</th>\n",
       "      <th>Recurrence</th>\n",
       "      <th>Censor</th>\n",
       "      <th>TimeToRecurrence</th>\n",
       "    </tr>\n",
       "  </thead>\n",
       "  <tbody>\n",
       "    <tr>\n",
       "      <th>0</th>\n",
       "      <td>3</td>\n",
       "      <td>25</td>\n",
       "      <td>72.1</td>\n",
       "      <td>0</td>\n",
       "      <td>0</td>\n",
       "      <td>54.0</td>\n",
       "      <td>3.0</td>\n",
       "      <td>1.0</td>\n",
       "      <td>3.0</td>\n",
       "      <td>0</td>\n",
       "      <td>0</td>\n",
       "      <td>14.08</td>\n",
       "      <td>1</td>\n",
       "      <td>6</td>\n",
       "      <td>1</td>\n",
       "      <td>0</td>\n",
       "      <td>0</td>\n",
       "      <td>1</td>\n",
       "      <td>0</td>\n",
       "      <td>2.67</td>\n",
       "    </tr>\n",
       "    <tr>\n",
       "      <th>1</th>\n",
       "      <td>3</td>\n",
       "      <td>25</td>\n",
       "      <td>73.6</td>\n",
       "      <td>0</td>\n",
       "      <td>0</td>\n",
       "      <td>43.2</td>\n",
       "      <td>3.0</td>\n",
       "      <td>2.0</td>\n",
       "      <td>2.0</td>\n",
       "      <td>0</td>\n",
       "      <td>1</td>\n",
       "      <td>10.50</td>\n",
       "      <td>0</td>\n",
       "      <td>2</td>\n",
       "      <td>3</td>\n",
       "      <td>0</td>\n",
       "      <td>0</td>\n",
       "      <td>1</td>\n",
       "      <td>0</td>\n",
       "      <td>47.63</td>\n",
       "    </tr>\n",
       "    <tr>\n",
       "      <th>2</th>\n",
       "      <td>3</td>\n",
       "      <td>25</td>\n",
       "      <td>67.5</td>\n",
       "      <td>0</td>\n",
       "      <td>0</td>\n",
       "      <td>102.7</td>\n",
       "      <td>1.0</td>\n",
       "      <td>1.0</td>\n",
       "      <td>3.0</td>\n",
       "      <td>0</td>\n",
       "      <td>1</td>\n",
       "      <td>6.98</td>\n",
       "      <td>1</td>\n",
       "      <td>1</td>\n",
       "      <td>1</td>\n",
       "      <td>0</td>\n",
       "      <td>0</td>\n",
       "      <td>0</td>\n",
       "      <td>1</td>\n",
       "      <td>14.10</td>\n",
       "    </tr>\n",
       "    <tr>\n",
       "      <th>3</th>\n",
       "      <td>2</td>\n",
       "      <td>15</td>\n",
       "      <td>65.8</td>\n",
       "      <td>0</td>\n",
       "      <td>0</td>\n",
       "      <td>46.0</td>\n",
       "      <td>1.0</td>\n",
       "      <td>1.0</td>\n",
       "      <td>1.0</td>\n",
       "      <td>0</td>\n",
       "      <td>1</td>\n",
       "      <td>4.40</td>\n",
       "      <td>0</td>\n",
       "      <td>2</td>\n",
       "      <td>3</td>\n",
       "      <td>0</td>\n",
       "      <td>0</td>\n",
       "      <td>0</td>\n",
       "      <td>1</td>\n",
       "      <td>59.47</td>\n",
       "    </tr>\n",
       "    <tr>\n",
       "      <th>4</th>\n",
       "      <td>2</td>\n",
       "      <td>15</td>\n",
       "      <td>63.2</td>\n",
       "      <td>0</td>\n",
       "      <td>0</td>\n",
       "      <td>60.0</td>\n",
       "      <td>2.0</td>\n",
       "      <td>1.0</td>\n",
       "      <td>2.0</td>\n",
       "      <td>0</td>\n",
       "      <td>1</td>\n",
       "      <td>21.40</td>\n",
       "      <td>0</td>\n",
       "      <td>3</td>\n",
       "      <td>3</td>\n",
       "      <td>0</td>\n",
       "      <td>0</td>\n",
       "      <td>0</td>\n",
       "      <td>1</td>\n",
       "      <td>1.23</td>\n",
       "    </tr>\n",
       "  </tbody>\n",
       "</table>\n",
       "</div>"
      ],
      "text/plain": [
       "   RBC Age Group  Median RBC Age   Age  AA  FamHx   PVol  TVol  T Stage  bGS  \\\n",
       "0              3              25  72.1   0      0   54.0   3.0      1.0  3.0   \n",
       "1              3              25  73.6   0      0   43.2   3.0      2.0  2.0   \n",
       "2              3              25  67.5   0      0  102.7   1.0      1.0  3.0   \n",
       "3              2              15  65.8   0      0   46.0   1.0      1.0  1.0   \n",
       "4              2              15  63.2   0      0   60.0   2.0      1.0  2.0   \n",
       "\n",
       "   BN+  OrganConfined  PreopPSA  PreopTherapy  Units  sGS  AnyAdjTherapy  \\\n",
       "0    0              0     14.08             1      6    1              0   \n",
       "1    0              1     10.50             0      2    3              0   \n",
       "2    0              1      6.98             1      1    1              0   \n",
       "3    0              1      4.40             0      2    3              0   \n",
       "4    0              1     21.40             0      3    3              0   \n",
       "\n",
       "   AdjRadTherapy  Recurrence  Censor  TimeToRecurrence  \n",
       "0              0           1       0              2.67  \n",
       "1              0           1       0             47.63  \n",
       "2              0           0       1             14.10  \n",
       "3              0           0       1             59.47  \n",
       "4              0           0       1              1.23  "
      ]
     },
     "execution_count": 23,
     "metadata": {},
     "output_type": "execute_result"
    }
   ],
   "source": [
    "# import dataset\n",
    "df = pd.read_csv(\"https://raw.githubusercontent.com/elayni/prostate-cancer-recurrence-analysis/main/Dataset/BloodStorage.csv\", error_bad_lines=False)\n",
    "\n",
    "df.head()"
   ]
  },
  {
   "cell_type": "code",
   "execution_count": 32,
   "metadata": {},
   "outputs": [
    {
     "data": {
      "text/plain": [
       "RBC Age Group       False\n",
       "Median RBC Age      False\n",
       "Age                 False\n",
       "AA                  False\n",
       "FamHx               False\n",
       "PVol                 True\n",
       "TVol                 True\n",
       "T Stage              True\n",
       "bGS                  True\n",
       "BN+                 False\n",
       "OrganConfined       False\n",
       "PreopPSA             True\n",
       "PreopTherapy        False\n",
       "Units               False\n",
       "sGS                 False\n",
       "AnyAdjTherapy       False\n",
       "AdjRadTherapy       False\n",
       "Recurrence          False\n",
       "Censor              False\n",
       "TimeToRecurrence     True\n",
       "dtype: bool"
      ]
     },
     "execution_count": 32,
     "metadata": {},
     "output_type": "execute_result"
    }
   ],
   "source": [
    "# missing data?\n",
    "df.isna().any()"
   ]
  },
  {
   "cell_type": "code",
   "execution_count": 33,
   "metadata": {},
   "outputs": [
    {
     "data": {
      "text/plain": [
       "RBC Age Group        0\n",
       "Median RBC Age       0\n",
       "Age                  0\n",
       "AA                   0\n",
       "FamHx                0\n",
       "PVol                 9\n",
       "TVol                 6\n",
       "T Stage             13\n",
       "bGS                  2\n",
       "BN+                  0\n",
       "OrganConfined        0\n",
       "PreopPSA             3\n",
       "PreopTherapy         0\n",
       "Units                0\n",
       "sGS                  0\n",
       "AnyAdjTherapy        0\n",
       "AdjRadTherapy        0\n",
       "Recurrence           0\n",
       "Censor               0\n",
       "TimeToRecurrence     1\n",
       "dtype: int64"
      ]
     },
     "execution_count": 33,
     "metadata": {},
     "output_type": "execute_result"
    }
   ],
   "source": [
    "# count missing data\n",
    "df.isna().sum()"
   ]
  },
  {
   "cell_type": "code",
   "execution_count": 34,
   "metadata": {},
   "outputs": [
    {
     "data": {
      "text/plain": [
       "RBC Age Group       False\n",
       "Median RBC Age      False\n",
       "Age                 False\n",
       "AA                  False\n",
       "FamHx               False\n",
       "PVol                False\n",
       "TVol                 True\n",
       "T Stage              True\n",
       "bGS                  True\n",
       "BN+                 False\n",
       "OrganConfined       False\n",
       "PreopPSA            False\n",
       "PreopTherapy        False\n",
       "Units               False\n",
       "sGS                 False\n",
       "AnyAdjTherapy       False\n",
       "AdjRadTherapy       False\n",
       "Recurrence          False\n",
       "Censor              False\n",
       "TimeToRecurrence    False\n",
       "dtype: bool"
      ]
     },
     "execution_count": 34,
     "metadata": {},
     "output_type": "execute_result"
    }
   ],
   "source": [
    "# replacing missing data to column median\n",
    "df['PVol'].fillna(df['PVol'].median(), inplace=True)\n",
    "df['PreopPSA'].fillna(df['PreopPSA'].median(), inplace=True)\n",
    "df['TimeToRecurrence'].fillna(df['TimeToRecurrence'].median(), inplace=True)\n",
    "# only categorical missing data \n",
    "df.isna().any()"
   ]
  },
  {
   "cell_type": "code",
   "execution_count": 80,
   "metadata": {},
   "outputs": [],
   "source": [
    "# drop categorical data\n",
    "df_nocatg = df.drop([\"RBC Age Group\", \"AA\", \"FamHx\", \"TVol\", \"T Stage\",\n",
    "                    \"bGS\", \"BN+\"], axis = 1)\n",
    "df_nocatg = df_nocatg.drop([\"PreopTherapy\", \"sGS\", \"AnyAdjTherapy\", \"OrganConfined\", \n",
    "                           \"AdjRadTherapy\", \"Recurrence\", \"Censor\"], axis = 1)\n",
    "\n",
    "# second part\n",
    "# centrality and dispersion measures (média, mediana, moda, variância, desvio padrão)\n",
    "df_means = np.array(np.mean(df_nocatg))\n",
    "df_medians = np.median(df_nocatg, axis = 0)"
   ]
  },
  {
   "cell_type": "code",
   "execution_count": 81,
   "metadata": {},
   "outputs": [
    {
     "name": "stdout",
     "output_type": "stream",
     "text": [
      "[16.70886076 61.15727848 56.23607595  8.16629747  2.4556962  32.89376582]\n",
      "[15.   61.85 49.    6.2   2.   25.3 ]\n"
     ]
    }
   ],
   "source": [
    "print(df_means)\n",
    "print(df_medians)"
   ]
  },
  {
   "cell_type": "code",
   "execution_count": 82,
   "metadata": {},
   "outputs": [],
   "source": [
    "# arrendondar"
   ]
  },
  {
   "cell_type": "code",
   "execution_count": 83,
   "metadata": {},
   "outputs": [
    {
     "name": "stdout",
     "output_type": "stream",
     "text": [
      "[16.70886076 61.15727848 56.23607595  8.16629747  2.4556962  32.89376582]\n",
      "[15.   61.85 49.    6.2   2.   25.3 ]\n"
     ]
    }
   ],
   "source": [
    "print(df_means)\n",
    "print(df_medians)"
   ]
  },
  {
   "cell_type": "code",
   "execution_count": 70,
   "metadata": {},
   "outputs": [
    {
     "data": {
      "text/plain": [
       "<Figure size 432x288 with 0 Axes>"
      ]
     },
     "metadata": {},
     "output_type": "display_data"
    },
    {
     "data": {
      "image/png": "[encoded data removed]",
      "text/plain": [
       "<Figure size 432x288 with 1 Axes>"
      ]
     },
     "metadata": {},
     "output_type": "display_data"
    }
   ],
   "source": [
    "plt.figure()\n",
    "\n",
    "fig, ax = plt.subplots()\n",
    "n, bins, patches = ax.hist(df_means, 5, density=True)\n",
    "ax.plot(bins, df_medians, '-')\n",
    "\n",
    "plt.show()"
   ]
  },
  {
   "cell_type": "code",
   "execution_count": 8,
   "metadata": {},
   "outputs": [
    {
     "data": {
      "text/plain": [
       "RBC Age Group         0.674041\n",
       "Median RBC Age       39.326630\n",
       "Age                  52.255612\n",
       "AA                    0.143757\n",
       "FamHx                 0.168883\n",
       "PVol                908.976112\n",
       "TVol                  0.497700\n",
       "T Stage               0.099620\n",
       "bGS                   0.453822\n",
       "BN+                   0.053717\n",
       "OrganConfined         0.225955\n",
       "PreopPSA             35.949976\n",
       "PreopTherapy          0.105792\n",
       "Units                 3.596138\n",
       "sGS                   0.620173\n",
       "AnyAdjTherapy         0.021661\n",
       "AdjRadTherapy         0.003155\n",
       "Recurrence            0.141684\n",
       "Censor                0.141684\n",
       "TimeToRecurrence    813.015299\n",
       "dtype: float64"
      ]
     },
     "execution_count": 8,
     "metadata": {},
     "output_type": "execute_result"
    }
   ],
   "source": [
    "np.var(df)"
   ]
  },
  {
   "cell_type": "code",
   "execution_count": null,
   "metadata": {},
   "outputs": [],
   "source": []
  }
 ],
 "metadata": {
  "kernelspec": {
   "display_name": "Python 3",
   "language": "python",
   "name": "python3"
  },
  "language_info": {
   "codemirror_mode": {
    "name": "ipython",
    "version": 3
   },
   "file_extension": ".py",
   "mimetype": "text/x-python",
   "name": "python",
   "nbconvert_exporter": "python",
   "pygments_lexer": "ipython3",
   "version": "3.8.3"
  }
 },
 "nbformat": 4,
 "nbformat_minor": 4
}
